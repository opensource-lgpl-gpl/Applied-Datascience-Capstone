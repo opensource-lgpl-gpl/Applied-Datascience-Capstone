{
 "cells": [
  {
   "cell_type": "code",
   "execution_count": 5,
   "id": "075a7006",
   "metadata": {},
   "outputs": [
    {
     "name": "stdout",
     "output_type": "stream",
     "text": [
      "Requirement already satisfied: psycopg2-binary in /Users/flushingmacmini/opt/anaconda3/lib/python3.9/site-packages (2.9.2)\n",
      "Note: you may need to restart the kernel to use updated packages.\n"
     ]
    }
   ],
   "source": [
    "pip install psycopg2-binary --no-cache-dir"
   ]
  },
  {
   "cell_type": "code",
   "execution_count": 1,
   "id": "09da92c9",
   "metadata": {},
   "outputs": [],
   "source": [
    "import psycopg2"
   ]
  },
  {
   "cell_type": "code",
   "execution_count": 27,
   "id": "edebdeb7",
   "metadata": {},
   "outputs": [],
   "source": [
    "conn = psycopg2.connect(\n",
    "    host=\"localhost\",\n",
    "    database=\"blood_donation_db\",\n",
    "    user=\"postgres\",\n",
    "    password=\"NasaDog2020@\")"
   ]
  },
  {
   "cell_type": "code",
   "execution_count": 28,
   "id": "d7d87fa2",
   "metadata": {},
   "outputs": [],
   "source": [
    "cur = conn.cursor()"
   ]
  },
  {
   "cell_type": "code",
   "execution_count": 29,
   "id": "3d81a3b8",
   "metadata": {},
   "outputs": [
    {
     "data": {
      "text/plain": [
       "[('Sai@gmail.com', 2001, 'Sia', 'Ai', 'Sai@gmail.com', 'Sai213'),\n",
       " ('hollyasher@gmail.com',\n",
       "  2002,\n",
       "  'Holly',\n",
       "  'Asher',\n",
       "  'hollyasher@gmail.com',\n",
       "  'hollyasher123'),\n",
       " ('hollya2003@gmail.com',\n",
       "  2003,\n",
       "  'Holly',\n",
       "  'Asher',\n",
       "  'hollya2003@gmail.com',\n",
       "  '123'),\n",
       " ('Rachel.mane@gmail.com',\n",
       "  2004,\n",
       "  'Rachel',\n",
       "  'Mane',\n",
       "  'rachelmane@gmail.com',\n",
       "  'rachelmane123')]"
      ]
     },
     "execution_count": 29,
     "metadata": {},
     "output_type": "execute_result"
    }
   ],
   "source": [
    "cur.execute(\"SELECT * FROM donor;\")\n",
    "cur.fetchall()"
   ]
  },
  {
   "cell_type": "code",
   "execution_count": 30,
   "id": "f88ee0f6",
   "metadata": {},
   "outputs": [],
   "source": [
    "##Application Code demonstrating the insert\n",
    "cur.execute(\"\"\"\n",
    "    INSERT INTO recipient_details(recipient_id, recipient_firstName, recipient_lastName, recipient_number, recipient_email, recipient_age, recipient_gender, recipient_bloodtype, recipient_address)\n",
    "    values(%s, %s, %s, %s, %s, %s, %s, %s, %s);\n",
    "    \"\"\", \n",
    "    (\"3004\",\"Betty\",\"Tai\",\"5743430293\",\"bettytai@gmail.com\",32,\"Female\",\"O+\",\"13675 37 Ave Apt 1B\"))"
   ]
  },
  {
   "cell_type": "code",
   "execution_count": 31,
   "id": "32c67571",
   "metadata": {},
   "outputs": [
    {
     "data": {
      "text/plain": [
       "[(3001,\n",
       "  'Mark',\n",
       "  'Smith',\n",
       "  '2129280392',\n",
       "  'marksmith@gmail.com',\n",
       "  27,\n",
       "  'Male',\n",
       "  'B+',\n",
       "  '15 Marks Place'),\n",
       " (3002,\n",
       "  'Mike',\n",
       "  'Doe',\n",
       "  '6469270392',\n",
       "  'mikedoe@gmail.com',\n",
       "  35,\n",
       "  'Male',\n",
       "  'B+',\n",
       "  '36 Saint George Road'),\n",
       " (3003,\n",
       "  'Joe',\n",
       "  'Campbell',\n",
       "  '5162930293',\n",
       "  'johnnylee@gmail.com',\n",
       "  32,\n",
       "  'Male',\n",
       "  'O+',\n",
       "  '225 E 34th Street Apt 21G'),\n",
       " (3004,\n",
       "  'Betty',\n",
       "  'Tai',\n",
       "  '5743430293',\n",
       "  'bettytai@gmail.com',\n",
       "  32,\n",
       "  'Female',\n",
       "  'O+',\n",
       "  '13675 37 Ave Apt 1B')]"
      ]
     },
     "execution_count": 31,
     "metadata": {},
     "output_type": "execute_result"
    }
   ],
   "source": [
    "##Application Code demonstrating that the insert worked. \n",
    "cur.execute(\"SELECT * FROM recipient_details;\")\n",
    "cur.fetchall()"
   ]
  },
  {
   "cell_type": "code",
   "execution_count": 36,
   "id": "1bacc6bd",
   "metadata": {},
   "outputs": [],
   "source": [
    "##This triggers the stored procedure of auditing the last name of the employee. \n",
    "cur.execute(\n",
    "  \"UPDATE medpersonnel SET empl_lastName=(%s)\"\n",
    "  \" WHERE empl_id = (%s)\", \n",
    "  (\"Black\",\"1003\",));"
   ]
  },
  {
   "cell_type": "code",
   "execution_count": 37,
   "id": "2b6d01cf",
   "metadata": {},
   "outputs": [
    {
     "data": {
      "text/plain": [
       "[(1003, 'Coffing', datetime.datetime(2022, 2, 7, 14, 0, 12, 574132)),\n",
       " (1003, 'Brown', datetime.datetime(2022, 2, 7, 15, 24, 8, 781071))]"
      ]
     },
     "execution_count": 37,
     "metadata": {},
     "output_type": "execute_result"
    }
   ],
   "source": [
    "cur.execute(\"SELECT * FROM medpersonnel_audits;\")\n",
    "cur.fetchall()"
   ]
  },
  {
   "cell_type": "code",
   "execution_count": null,
   "id": "2833b569",
   "metadata": {},
   "outputs": [],
   "source": []
  }
 ],
 "metadata": {
  "kernelspec": {
   "display_name": "Python 3 (ipykernel)",
   "language": "python",
   "name": "python3"
  },
  "language_info": {
   "codemirror_mode": {
    "name": "ipython",
    "version": 3
   },
   "file_extension": ".py",
   "mimetype": "text/x-python",
   "name": "python",
   "nbconvert_exporter": "python",
   "pygments_lexer": "ipython3",
   "version": "3.9.7"
  }
 },
 "nbformat": 4,
 "nbformat_minor": 5
}
